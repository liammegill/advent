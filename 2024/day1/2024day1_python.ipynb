{
 "cells": [
  {
   "cell_type": "markdown",
   "metadata": {},
   "source": [
    "# Day 1: Historian Hysteria\n",
    "\n",
    "-- Advent of Code 2024 --"
   ]
  },
  {
   "cell_type": "markdown",
   "metadata": {},
   "source": [
    "Puzzle 1: Calculate the total distance between two lists to see whether the Elves have found similar locations."
   ]
  },
  {
   "cell_type": "code",
   "execution_count": 9,
   "metadata": {},
   "outputs": [
    {
     "name": "stdout",
     "output_type": "stream",
     "text": [
      "The total distance between the two lists is 2113135.\n"
     ]
    }
   ],
   "source": [
    "import numpy as np\n",
    "\n",
    "# load data\n",
    "data = np.loadtxt(\"input.txt\", dtype=int)\n",
    "list1 = data[:, 0]\n",
    "list2 = data[:, 1]\n",
    "\n",
    "# sort data\n",
    "list1.sort()\n",
    "list2.sort()\n",
    "\n",
    "# calculate total distance\n",
    "total_distance = np.sum(np.abs(list2 - list1))\n",
    "print(f\"The total distance between the two lists is {total_distance}.\")"
   ]
  },
  {
   "cell_type": "markdown",
   "metadata": {},
   "source": [
    "Puzzle 2: Calculate the similarity score between the two lists. Maybe the Chief Historian's handwriting is actually that bad...?"
   ]
  },
  {
   "cell_type": "code",
   "execution_count": null,
   "metadata": {},
   "outputs": [
    {
     "name": "stdout",
     "output_type": "stream",
     "text": [
      "The similarity score is 19097157.\n"
     ]
    }
   ],
   "source": [
    "# get the number of times a value can be found in the right list\n",
    "num_in_list2 = np.empty(list1.shape, dtype=int)\n",
    "for i, list1_val in enumerate(list1):\n",
    "    num_in_list2[i] = np.sum(list2 == list1_val)\n",
    "\n",
    "# calculate similarity score\n",
    "similarity = np.sum(list1 * num_in_list2)\n",
    "print(f\"The similarity score is {similarity}.\")"
   ]
  }
 ],
 "metadata": {
  "kernelspec": {
   "display_name": "venv",
   "language": "python",
   "name": "python3"
  },
  "language_info": {
   "codemirror_mode": {
    "name": "ipython",
    "version": 3
   },
   "file_extension": ".py",
   "mimetype": "text/x-python",
   "name": "python",
   "nbconvert_exporter": "python",
   "pygments_lexer": "ipython3",
   "version": "3.11.5"
  }
 },
 "nbformat": 4,
 "nbformat_minor": 2
}
